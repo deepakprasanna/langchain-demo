{
 "cells": [
  {
   "cell_type": "code",
   "execution_count": 1,
   "id": "f1ea7ebd",
   "metadata": {
    "collapsed": true
   },
   "outputs": [
    {
     "name": "stdout",
     "output_type": "stream",
     "text": [
      "Requirement already satisfied: pinecone-client in /usr/local/lib/python3.11/site-packages (2.2.2)\n",
      "Requirement already satisfied: wikipedia in /usr/local/lib/python3.11/site-packages (1.4.0)\n",
      "Requirement already satisfied: google-api-python-client in /usr/local/lib/python3.11/site-packages (2.90.0)\n",
      "Requirement already satisfied: unstructured in /usr/local/lib/python3.11/site-packages (0.7.10)\n",
      "Requirement already satisfied: tabulate in /usr/local/lib/python3.11/site-packages (0.9.0)\n",
      "Requirement already satisfied: pdf2image in /usr/local/lib/python3.11/site-packages (1.16.3)\n",
      "Requirement already satisfied: requests>=2.19.0 in /usr/local/lib/python3.11/site-packages (from pinecone-client) (2.28.2)\n",
      "Requirement already satisfied: pyyaml>=5.4 in /usr/local/lib/python3.11/site-packages (from pinecone-client) (6.0)\n",
      "Requirement already satisfied: loguru>=0.5.0 in /usr/local/lib/python3.11/site-packages (from pinecone-client) (0.7.0)\n",
      "Requirement already satisfied: typing-extensions>=3.7.4 in /usr/local/lib/python3.11/site-packages (from pinecone-client) (4.5.0)\n",
      "Requirement already satisfied: dnspython>=2.0.0 in /usr/local/lib/python3.11/site-packages (from pinecone-client) (2.3.0)\n",
      "Requirement already satisfied: python-dateutil>=2.5.3 in /usr/local/lib/python3.11/site-packages (from pinecone-client) (2.8.2)\n",
      "Requirement already satisfied: urllib3>=1.21.1 in /usr/local/lib/python3.11/site-packages (from pinecone-client) (1.26.15)\n",
      "Requirement already satisfied: tqdm>=4.64.1 in /usr/local/lib/python3.11/site-packages (from pinecone-client) (4.65.0)\n",
      "Requirement already satisfied: numpy>=1.22.0 in /usr/local/lib/python3.11/site-packages (from pinecone-client) (1.23.5)\n",
      "Requirement already satisfied: beautifulsoup4 in /usr/local/lib/python3.11/site-packages (from wikipedia) (4.12.2)\n",
      "Requirement already satisfied: httplib2<1.dev0,>=0.15.0 in /usr/local/lib/python3.11/site-packages (from google-api-python-client) (0.22.0)\n",
      "Requirement already satisfied: google-auth<3.0.0.dev0,>=1.19.0 in /usr/local/lib/python3.11/site-packages (from google-api-python-client) (2.21.0)\n",
      "Requirement already satisfied: google-auth-httplib2>=0.1.0 in /usr/local/lib/python3.11/site-packages (from google-api-python-client) (0.1.0)\n",
      "Requirement already satisfied: google-api-core!=2.0.*,!=2.1.*,!=2.2.*,!=2.3.0,<3.0.0.dev0,>=1.31.5 in /usr/local/lib/python3.11/site-packages (from google-api-python-client) (2.11.1)\n",
      "Requirement already satisfied: uritemplate<5,>=3.0.1 in /usr/local/lib/python3.11/site-packages (from google-api-python-client) (4.1.1)\n",
      "Requirement already satisfied: argilla in /usr/local/lib/python3.11/site-packages (from unstructured) (1.11.0)\n",
      "Requirement already satisfied: chardet in /usr/local/lib/python3.11/site-packages (from unstructured) (5.1.0)\n",
      "Requirement already satisfied: filetype in /usr/local/lib/python3.11/site-packages (from unstructured) (1.2.0)\n",
      "Requirement already satisfied: lxml in /usr/local/lib/python3.11/site-packages (from unstructured) (4.9.2)\n",
      "Requirement already satisfied: msg-parser in /usr/local/lib/python3.11/site-packages (from unstructured) (1.2.0)\n",
      "Requirement already satisfied: nltk in /usr/local/lib/python3.11/site-packages (from unstructured) (3.8.1)\n",
      "Requirement already satisfied: openpyxl in /usr/local/lib/python3.11/site-packages (from unstructured) (3.1.2)\n",
      "Requirement already satisfied: pandas in /usr/local/lib/python3.11/site-packages (from unstructured) (1.5.3)\n",
      "Requirement already satisfied: pdfminer.six in /usr/local/lib/python3.11/site-packages (from unstructured) (20221105)\n",
      "Requirement already satisfied: pillow in /usr/local/lib/python3.11/site-packages (from unstructured) (9.5.0)\n",
      "Requirement already satisfied: pypandoc in /usr/local/lib/python3.11/site-packages (from unstructured) (1.11)\n",
      "Requirement already satisfied: python-docx in /usr/local/lib/python3.11/site-packages (from unstructured) (0.8.11)\n",
      "Requirement already satisfied: python-pptx in /usr/local/lib/python3.11/site-packages (from unstructured) (0.6.21)\n",
      "Requirement already satisfied: python-magic in /usr/local/lib/python3.11/site-packages (from unstructured) (0.4.27)\n",
      "Requirement already satisfied: markdown in /usr/local/lib/python3.11/site-packages (from unstructured) (3.4.3)\n",
      "Requirement already satisfied: xlrd in /usr/local/lib/python3.11/site-packages (from unstructured) (2.0.1)\n",
      "Requirement already satisfied: googleapis-common-protos<2.0.dev0,>=1.56.2 in /usr/local/lib/python3.11/site-packages (from google-api-core!=2.0.*,!=2.1.*,!=2.2.*,!=2.3.0,<3.0.0.dev0,>=1.31.5->google-api-python-client) (1.59.1)\n",
      "Requirement already satisfied: protobuf!=3.20.0,!=3.20.1,!=4.21.0,!=4.21.1,!=4.21.2,!=4.21.3,!=4.21.4,!=4.21.5,<5.0.0.dev0,>=3.19.5 in /usr/local/lib/python3.11/site-packages (from google-api-core!=2.0.*,!=2.1.*,!=2.2.*,!=2.3.0,<3.0.0.dev0,>=1.31.5->google-api-python-client) (4.23.3)\n",
      "Requirement already satisfied: cachetools<6.0,>=2.0.0 in /usr/local/lib/python3.11/site-packages (from google-auth<3.0.0.dev0,>=1.19.0->google-api-python-client) (5.3.1)\n",
      "Requirement already satisfied: pyasn1-modules>=0.2.1 in /usr/local/lib/python3.11/site-packages (from google-auth<3.0.0.dev0,>=1.19.0->google-api-python-client) (0.3.0)\n",
      "Requirement already satisfied: rsa<5,>=3.1.4 in /usr/local/lib/python3.11/site-packages (from google-auth<3.0.0.dev0,>=1.19.0->google-api-python-client) (4.9)\n",
      "Requirement already satisfied: six>=1.9.0 in /usr/local/lib/python3.11/site-packages (from google-auth<3.0.0.dev0,>=1.19.0->google-api-python-client) (1.16.0)\n",
      "Requirement already satisfied: pyparsing!=3.0.0,!=3.0.1,!=3.0.2,!=3.0.3,<4,>=2.4.2 in /usr/local/lib/python3.11/site-packages (from httplib2<1.dev0,>=0.15.0->google-api-python-client) (3.1.0)\n",
      "Requirement already satisfied: charset-normalizer<4,>=2 in /usr/local/lib/python3.11/site-packages (from requests>=2.19.0->pinecone-client) (3.1.0)\n",
      "Requirement already satisfied: idna<4,>=2.5 in /usr/local/lib/python3.11/site-packages (from requests>=2.19.0->pinecone-client) (3.4)\n",
      "Requirement already satisfied: certifi>=2017.4.17 in /usr/local/lib/python3.11/site-packages (from requests>=2.19.0->pinecone-client) (2022.12.7)\n",
      "Requirement already satisfied: httpx<0.24,>=0.15 in /usr/local/lib/python3.11/site-packages (from argilla->unstructured) (0.23.3)\n",
      "Requirement already satisfied: deprecated~=1.2.0 in /usr/local/lib/python3.11/site-packages (from argilla->unstructured) (1.2.14)\n",
      "Requirement already satisfied: packaging>=20.0 in /usr/local/Cellar/sip/6.7.7/libexec/lib/python3.11/site-packages (from argilla->unstructured) (23.0)\n",
      "Requirement already satisfied: pydantic>=1.10.7 in /usr/local/lib/python3.11/site-packages (from argilla->unstructured) (1.10.9)\n",
      "Requirement already satisfied: wrapt<1.15,>=1.13 in /usr/local/lib/python3.11/site-packages (from argilla->unstructured) (1.14.1)\n",
      "Requirement already satisfied: backoff in /usr/local/lib/python3.11/site-packages (from argilla->unstructured) (2.2.1)\n",
      "Requirement already satisfied: monotonic in /usr/local/lib/python3.11/site-packages (from argilla->unstructured) (1.6)\n",
      "Requirement already satisfied: rich<=13.0.1 in /usr/local/lib/python3.11/site-packages (from argilla->unstructured) (13.0.1)\n",
      "Requirement already satisfied: typer<1.0.0,>=0.6.0 in /usr/local/lib/python3.11/site-packages (from argilla->unstructured) (0.9.0)\n",
      "Requirement already satisfied: pytz>=2020.1 in /usr/local/lib/python3.11/site-packages (from pandas->unstructured) (2023.3)\n",
      "Requirement already satisfied: soupsieve>1.2 in /usr/local/lib/python3.11/site-packages (from beautifulsoup4->wikipedia) (2.4.1)\n",
      "Requirement already satisfied: olefile>=0.46 in /usr/local/lib/python3.11/site-packages (from msg-parser->unstructured) (0.46)\n",
      "Requirement already satisfied: click in /usr/local/lib/python3.11/site-packages (from nltk->unstructured) (8.1.3)\n",
      "Requirement already satisfied: joblib in /usr/local/lib/python3.11/site-packages (from nltk->unstructured) (1.3.0)\n",
      "Requirement already satisfied: regex>=2021.8.3 in /usr/local/lib/python3.11/site-packages (from nltk->unstructured) (2023.3.23)\n",
      "Requirement already satisfied: et-xmlfile in /usr/local/lib/python3.11/site-packages (from openpyxl->unstructured) (1.1.0)\n",
      "Requirement already satisfied: cryptography>=36.0.0 in /usr/local/lib/python3.11/site-packages (from pdfminer.six->unstructured) (41.0.1)\n"
     ]
    },
    {
     "name": "stdout",
     "output_type": "stream",
     "text": [
      "Requirement already satisfied: XlsxWriter>=0.5.7 in /usr/local/lib/python3.11/site-packages (from python-pptx->unstructured) (3.1.2)\n",
      "Requirement already satisfied: cffi>=1.12 in /usr/local/lib/python3.11/site-packages (from cryptography>=36.0.0->pdfminer.six->unstructured) (1.15.1)\n",
      "Requirement already satisfied: httpcore<0.17.0,>=0.15.0 in /usr/local/lib/python3.11/site-packages (from httpx<0.24,>=0.15->argilla->unstructured) (0.16.3)\n",
      "Requirement already satisfied: rfc3986[idna2008]<2,>=1.3 in /usr/local/lib/python3.11/site-packages (from httpx<0.24,>=0.15->argilla->unstructured) (1.5.0)\n",
      "Requirement already satisfied: sniffio in /usr/local/lib/python3.11/site-packages (from httpx<0.24,>=0.15->argilla->unstructured) (1.3.0)\n",
      "Requirement already satisfied: pyasn1<0.6.0,>=0.4.6 in /usr/local/lib/python3.11/site-packages (from pyasn1-modules>=0.2.1->google-auth<3.0.0.dev0,>=1.19.0->google-api-python-client) (0.5.0)\n",
      "Requirement already satisfied: commonmark<0.10.0,>=0.9.0 in /usr/local/lib/python3.11/site-packages (from rich<=13.0.1->argilla->unstructured) (0.9.1)\n",
      "Requirement already satisfied: pygments<3.0.0,>=2.6.0 in /usr/local/lib/python3.11/site-packages (from rich<=13.0.1->argilla->unstructured) (2.15.1)\n",
      "Requirement already satisfied: pycparser in /usr/local/lib/python3.11/site-packages (from cffi>=1.12->cryptography>=36.0.0->pdfminer.six->unstructured) (2.21)\n",
      "Requirement already satisfied: h11<0.15,>=0.13 in /usr/local/lib/python3.11/site-packages (from httpcore<0.17.0,>=0.15.0->httpx<0.24,>=0.15->argilla->unstructured) (0.14.0)\n",
      "Requirement already satisfied: anyio<5.0,>=3.0 in /usr/local/lib/python3.11/site-packages (from httpcore<0.17.0,>=0.15.0->httpx<0.24,>=0.15->argilla->unstructured) (3.7.0)\n"
     ]
    }
   ],
   "source": [
    "!pip install pinecone-client wikipedia google-api-python-client unstructured tabulate pdf2image"
   ]
  },
  {
   "cell_type": "code",
   "execution_count": 22,
   "id": "8d990950",
   "metadata": {
    "collapsed": true
   },
   "outputs": [
    {
     "data": {
      "text/plain": [
       "[Document(page_content='On Earth-65 in New York City, over a year after helping defeat Kingpin with Miles Morales, Gwen Stacy relates her struggle to create relationships with anyone around her, feeling isolated in her role as Spider-Woman. After quitting her band, she remembers the last person she felt close to, her best friend Peter Parker. He, along with his Aunt May, was very close to Gwen and her father, Police Captain George Stacy, though she never told any of them about her double life as a superhero. Peter was bullied relentlessly at school, despite Gwen trying to defend him. Unbeknownst to her, he started experimenting with a dangerous chemical. The night of prom, a giant lizard monster attacked the school and tried to kill Peter\\'s bully. Gwen, leaping into action as Spider-Woman, fought him off, causing the building to collapse on top of the creature. The lizard reverted to Peter, who was mortally injured by the rubble. Gwen tried to save him, but it was too late. Peter revealed he knew she was Spider-Woman, and reassured her before dying in her arms. Captain Stacy found her over Peter\\'s body and assumed the masked vigilante murdered him, ordering a city-wide manhunt for Spider-Woman. In the present, Gwen returns home to ﬁnd her dad, who is still determined to bring down the \"killer\" of his daughter\\'s best friend. Despite Gwen telling him it\\'s no good, he soon leaves to respond to a disturbance at the Guggenheim Museum. Gwen is soon behind him as Spider-Woman, neutralizing the cops outside and entering to ﬁnd a parchment-based version of the Vulture has been sucked into her dimension and is wreaking havoc inside. She is pinned down by the villain, but is saved by another inter- dimensional traveler, Miguel O\\'Hara, a.k.a. Spider-Man 2099, leader of the Spider Society. He tells her that Vulture, and others like him, have been getting sucked into alternate universes ever since the collider incident in Miles\\' world. His suit and powers are still struggling to subdue the Renaissance Era Vulture, and he uses his artiﬁcial intelligence called Lyla to call for backup in the form of Jessica Drew, another Spider-Woman. Together, the three are able to stop Vulture and save the civilians and cops in the area, though Miguel nearly uses a pair of hidden fangs on the creature. Gwen is out of web and injured, and stops to rest. She is found and cornered by Captain Stacy, who tries to take her in. With no other options, she reveals her identity as his own daughter, to his shock. Despite her trying to reason with him and proclaim her innocence of Peter\\'s death, he continues to place her under arrest. He is stopped by Miguel and Jess, who prepare to take the Vulture back to their dimension. Jess convinces a highly reluctant Miguel not to leave Gwen behind all alone, and he allows her to go with them.\\n\\nSeveral months later in Brooklyn on Earth-1610, a new small time villain named The Spot tries, unsuccessfully, to rob an ATM using his spots, which create portals whose placement he is unable to control his powers. Miles Morales, a.k.a. Spider-Man, arrives to stop him. He does not take the seemingly harmless criminal seriously, as it seems clear he is incompetent and doesn\\'t want to hurt anyone, though Spot insists that he is Spider-Man\\'s nemesis. Before he can explain, Miles gets frantic texts from his parents, Jefferson and Rio, who are waiting for him at school for a meeting with his principle to discuss his collage future. Miles tries to take down Spot quickly, but the haphazard portals lead to a chaotic chase across the city. Miles eventually subdues Spot, but needs to leave to meet his parents. Miles is doing well enough in school, but some of his grades, and all of his extra curricular activities, have suffered from his unexplained absences. His parents are also concerned that he wants to leave for a collage in New Jersey to help study dimensional travel. He leaves suddenly, seeing that Spot has escaped, and Jeff leaves as well, to Rio\\'s annoyance.\\n\\nJefferson follows Spider-Man, who is back to ﬁghting Spot, the faceless man feeling insulted that Spider-Man thinks of him as low-tier villain. While teleporting all over, the three of them end up\\n\\nin ruins of the Alchemax collider. The Spot tells Spider-Man that this is where they were both created, as Spot used to be a scientist at Alchemax (the one who Miles threw a bagel at in the ﬁrst ﬁlm), and ran the test which brought the spider that bit Miles through from another dimension. Likewise, when Miles destroyed the collider, the energy released caused an accident that turned Spot permanently into the humanoid portal creature his is now. The Spot was shunned by his colleagues, friends, and even family for his condition. He becomes enraged, and tries to attack Spider-Man and Lieutenant Morales, but accidentally kicks himself on his butt and falls into a deep portal, which closes behind him. Jeff is frustrated that the criminal got away, as well as all the property damage caused by the ﬁght. He conﬁdes in Spider-Man about his struggles to be a good father and husband, and the masked Miles awkwardly offers advice before leaving. The Spot ﬁnds himself in a void, where he sees many portals made by his spots. Looking through them, he ﬁnds he can travel to different dimensions through them, but loses energy and is unable to return to the in-between space. He determines to ﬁnd a way to get more power to control the void and defeat Spider-Man.\\n\\nMiles continues to try and balance his life as Miles with his responsibilities as Spider-Man. While late to a big party to celebrate his dad\\'s upcoming promotion to police captain, he stops to get cakes, but is constantly waylaid by Spider-Man duties on his way back, missing his father\\'s speech. When he ﬁnally makes it, the cakes are ruined, and his parents confront him about his secretive behavior. Miles becomes frustrated trying to come up with an explanation, and snaps at his parents. Rio and Jeff ground him, and Miles storms off to his room. Gwen suddenly appears through a dimensional portal controlled by a watch given to her by Miguel, and she invites him to hang out. They suit up and Gwen tells him all about Miguel\\'s organization, the Spider Society, which she has joined to help protect the various universes. The two patrol the city for a while before stopping to talk, and Gwen conﬁdes in him that he is the only friend she\\'s made since her Peter died, as Miles relates his own struggles with the pressure from his parents. He thinks maybe he should just tell them the truth, but Gwen warns against it. As they get closer, Gwen remarks that in every other universe, a version of Gwen Stacy falls for Spider-Man, though it always ends in tragedy. Miles optimistically states that there may be a ﬁrst time for the story to end happily. They return to the party where Gwen shows Miles her dimension jumping watch, which also stabilizes her so she doesn\\'t glitch when she is in other worlds. Miles asks her about joining the Spider Society, but she becomes suddenly closed off about the subject and implies that it\\'s a highly specialized and elite group. Jeff and Rio barge in to meet Gwen, immediately disapproving of her friendship with Miles. Gwen has to leave when her watch indicates to her, and Jeff leaves Rio to talk to Miles. They have a heart to heart talk, but, fearing what Gwen told him, Miles still doesn\\'t reveal he is Spider-Man. Rio gives him her blessing to go after Gwen.\\n\\nMiles suits up and tracks Spider-Gwen to an abandoned and recently damaged building, using his powers to turn invisible and follow her inside. She uses her watch to recreate what happened, seeing that Spot made a miniature collider to give him enough power to dimension hop. Gwen freaks out, and is called by Jess, who is angry that Gwen failed to stop Spot before he escaped. She realizes Gwen disobeyed direct orders to stay away from Miles, though Gwen insists she had to see him. She tells Jess that she will leave Miles\\' dimension forever, and the older Spider- Woman gives her one last chance to get Spot before she tells Miguel. Lyla tracks him, and Gwen uses her watch to go through a portal. Determined to know more about the Spider Society, and feeling lonely without his friends, Miles jumps in after her. They end up in Earth-50101, Mumbatten, a world where New York is a massive metropolis in India. Miles accidentally runs\\n\\ninto Gwen while she is chasing Spot, who has gained a great deal more control over his powers and is evading her easily. Miles also meets the local Spider-Man, Pavitr Prabhakar. Pavitr has only been Spider-Man for six months, but is already a member of the Spider Society. Miles starts to spasm due to being displaced from his universe, like the others did the previous year, and nearly gets Gwen hurt when he tries to save her. The three follow Spot to Earth-50101\\'s Alchemax, which houses a fully functional collider. Spot shuts them out with a forceﬁeld and activates the device. Miles uses his Venom powers to steal the energy from the forceﬁeld, but its is too slow and not strong enough. Another Spider person appears and uses his own powers to smash though the barrier, advising Miles on the proper technique. He is Gwen\\'s friend Hobie Brown, a.k.a. Spider-Punk, a British anti-establishment anarchist spider-man. He joins the others in trying to stop Spot from entering the collider, but are too late. As Spot absorbs the power, Miles sees a vision of his father and another policeman being killed during a battle in the city. Spot, now completely covered by the dark portals and unrecognizable, tells Miles that he will have his revenge for what the teen hero\\'s actions have done to him, and escapes dimensions once again. The building starts to collapse and slide down onto Mumbatten, so the four spider people work together to clear the civilians from harms away. As Pavitr tries to save a bus holding his girlfriend, he sees that her father, Police Inspector Singh, is also in danger. Miles goes to rescue him, but Gwen holds him back, saying its too dangerous. Miles goes anyway, and is just able to save the Inspector, to Pavitr and his girlfriend\\'s relief and gratitude. However, a black portal opens up in the heart of the city, and a transport full of other spider people, including Jess, arrives to contain it. Jess orders Gwen, Hobie, and Miles to return with her to HQ. Miles is happy to be let inside the Spider Society, but Gwen is apprehensive.\\n\\nThey are transported to Earth-928, Nueva York, a beautiful futuristic world in the year 2099. They enter the Spider Society Headquarters, where Miles sees hundreds of spider people from all different dimensions, including a virtual reality avatar spider-woman named Spider-Byte, controlled remotely by teenager Margo Kess. Confused as to why Gwen told him it was a small group, Miles is given a wristband to prevent him from glitching out. He also sees \"anomalies\", villains displaced from their own dimensions, who are imprisoned in preparation to be sent home by the Go Home Machine, a device that detects the DNA of the anomalies and sends them to the dimension they came from. They are summoned to see Miguel, and Hobie tells Miles to think carefully about why he wants to be a part of the society, warning him to know what he\\'s ﬁghting for before he accepts their methods. Miguel is furious at Gwen and Miles for letting Spot get away, especially at Miles for interfering. He is interrupted by Peter B. Parker, the Spider-Man who helped Miles the previous year, with his infant daughter Mayday. Gwen takes responsibility, saying she should never have gone to see Miles as she was under orders not to get him involved. Miles want to know what\\'s going on, so Miguel decides to explain the situation to him. He shows him an algorithm containing the details of every universe\\'s Spider-Man, and the things that link each and every one of them together, such as the death of a loved one spurring them to heroism. Miguel explains that these are \"canon events\" that are essential to every spider-man\\'s universe. These events cannot be changed, or else they will break the canon, leading to devastating consequences. Miguel explains that he himself broke the canon when he tried to replace a version of himself that was murdered, in order to raise that version of him\\'s daughter. However, his interference caused that dimension and everyone in it to fade into nothing. There are other details that many spider people share and can be tracked by the algorithm, one of which being a police captain close to Spider-Man getting killed while trying to save a child. This death has been experienced by Peter B. and Jess, as well as Hobie. It was supposed to happen to Captain\\n\\nSingh in Mumbatten, but Miles saved him, causing the black energy to appear and threaten to swallow the entire world. Gwen was trying to stop him to preserve the algorithm\\'s canon. Miles realizes that his dad will soon be made a captain, and the vision from Spot showed the villain causing Jefferson\\'s death while trying to save a child. Miguel conﬁrms that according to their projections, Miles\\' father will die in two days, when he is sworn in. Miles wants to go save him, but Miguel will not allow him to, saying it is a sacriﬁce that all spider people must make, and insisting that to damage the canon too much would cause every dimension to be eradicated. The other spider people surround Miles and tell him the same, even Peter B. and Gwen refuse to interfere. Miles rejects the notion that the algorithm knows exactly what will happen if he tries to save his dad, so Miguel entraps him in a force cage, intending to hold him until the canon event has played out. Hobie reminds Miles of his venom powers, and Miles breaks out of the cage and runs for it. Hobie looks on proudly before quitting the Spider Society and returning to his own dimension.\\n\\nMiguel orders every spider person in the skyscraper to catch Miles, but he is able to evade them into the under city. Peter B. ﬁnds him and tries to reason with him, saying he only had the courage to become a father because of Miles, and tries to get him to give up for his own sake. Miles refuses to allow his father to die just because Miguel\\'s algorithm says it is meant to happen, and leaves Peter behind when Miguel tracks them from Peter\\'s watch. Miles escapes onto a train bound for the Moon, but Miguel chases him ruthlessly. He catches him, and furiously tells Miles that he could never be a part of the Spider Society, because he is an anomaly himself; The spider that bit Miles was from another dimension. It was never supposed to bite him, and somewhere there is a world with no Spider-Man at all because of it. Peter B. and Gwen catch up, and accidentally reveal that they were aware of this, leaving Miles feeling betrayed by his own friends. Nevertheless, he uses his venom strike to depower Miguel\\'s suit, telling him that he will never give up, and he has now lured all of the spider people away from the headquarters. He leaves Miguel and the others on the train as he turns invisible and escapes back to HQ. He activates the Go Home Machine, which scans his DNA. Miguel tries desperately to stop him but Spider-Byte lets the machine continue, sending Miles away. Miguel is livid, and orders Jess and Ben, a.k.a. Scarlet Spider, to come with him and hunt Miles down. Gwen questions Miguel in front of everyone, arguing that maybe Miles is right, and perhaps Spider-Man 2099\\'s algorithm doesn\\'t know for certain what will happen if the canon is broken. Miguel uses to Go Home Machine to banish Gwen back to her own dimension. Peter B. and Mayday return to Earth-616 to ﬁnd his wife, Mary Jane, waiting for them. Peter wonders if he is going to be any good at raising a child after all, but Mary Jane reassures him.\\n\\nMiles arrives in New York, and Gwen is dropped off in Earth-65. Miguel, Scarlet, and Jessica also teleport to New York. Gwen tries desperately to return and ﬁnd Miles, but her watch has been deactivated. She goes to her apartment to grab her things, but is found by her dad. They ﬁnally talk, Gwen explaining why she felt she could never tell him about her alter ego, and George tells her that he is quitting the police force. Gwen realizes that means he will no longer be a captain, and they reconcile. George gives Gwen a package left by Hobie, containing a homemade dimension watch made from parts stolen from the Spider Society. Gwen uses it to jump back to Miles\\' Earth.\\n\\nJess, Miguel, and Ben split up to look for Miles, meanwhile Miles is racing through to city to his apartment, contemplating everything the other spider people have told him. He makes it back to\\n\\nhis bedroom safely, and is found by his mom. Miles embraces her, rambling about everything that has happened to him since leaving. He decides he will not be afraid anymore, and tells her that he\\'s Spider-Man. Rio, however, doesn\\'t know who Spider-Man is, and goes about her evening. Miles starts to spasm from dimensional displacement, as Gwen arrives at Miles\\' empty bedroom in Earth-1610. Miles realizes that the Go Home Machine sent him to the dimension the spider who bit him came from: Earth-42. Aaron Davis, Miles\\' uncle, shows up, still alive in this world, but there is no sign of Jeff, and Rio is working overtime to try and provide for her and her son. Aaron takes Miles with him up to the roof, asking him if he remembers \"the plan\". As they exit, Miles takes in this version of New York, a crime-ridden, villain ruled, dangerous landscape, and sees that his father has already been killed in this universe. Miles remembers that Earth-42 has no Spider-Man. Aaron gets a text, and before Miles can react, he is knocked unconscious by and unknown ﬁgure. Gwen hears Mr. and Mrs. Morales worriedly talking in the other room, and they discuss their feeling of alienation from their son. Gwen appears and tells them it is her fault he has not returned, gaining some respect from Jeff when he learns that her father is a cop. She leaves to ﬁnd Miles, and Rio asks her to remind him of their love for him when she does.\\n\\nMiles comes to, tied up in Aaron\\'s apartment. he tries to explain that he is from another universe, one where his father is alive and Aaron is dead. He appeals to Aaron\\'s better nature, saying his uncle never truly wanted to be the Prowler. Aaron tells Miles that he isn\\'t the Prowler, but shows him the person who is: Earth-42\\'s Miles Morales. Prowler Miles is fascinated by his story, and Miles pleads with his counterpart to release him so he can save their father. However, Prowler Miles has no intention of letting him go. Because that\\'s his father.\\n\\nGwen puts together her own team to ﬁnd and rescue Miles, including Hobie, Pavitr, Margo, Peter B. and Mayday, Peni Parker and her robot SP//dr, Spider-Man Noir, and Spider-Ham. As they use Hobie\\'s homemade portals to start their mission, Miles starts to charge up his venom.', metadata={'source': 'plots/spiderman.pdf'})]"
      ]
     },
     "execution_count": 22,
     "metadata": {},
     "output_type": "execute_result"
    }
   ],
   "source": [
    "from langchain.document_loaders import DirectoryLoader\n",
    "\n",
    "loader = DirectoryLoader(\n",
    "    './plots', # my local directory\n",
    "    glob='**/*.pdf',     # we only get pdfs\n",
    ")\n",
    "docs = loader.load()\n",
    "docs"
   ]
  },
  {
   "cell_type": "code",
   "execution_count": 23,
   "id": "e49a7409",
   "metadata": {
    "collapsed": true
   },
   "outputs": [
    {
     "name": "stderr",
     "output_type": "stream",
     "text": [
      "Created a chunk of size 2818, which is longer than the specified 1000\n",
      "Created a chunk of size 1173, which is longer than the specified 1000\n",
      "Created a chunk of size 1261, which is longer than the specified 1000\n",
      "Created a chunk of size 2005, which is longer than the specified 1000\n",
      "Created a chunk of size 2067, which is longer than the specified 1000\n",
      "Created a chunk of size 2265, which is longer than the specified 1000\n",
      "Created a chunk of size 1154, which is longer than the specified 1000\n",
      "Created a chunk of size 1931, which is longer than the specified 1000\n",
      "Created a chunk of size 1422, which is longer than the specified 1000\n"
     ]
    },
    {
     "data": {
      "text/plain": [
       "[Document(page_content='On Earth-65 in New York City, over a year after helping defeat Kingpin with Miles Morales, Gwen Stacy relates her struggle to create relationships with anyone around her, feeling isolated in her role as Spider-Woman. After quitting her band, she remembers the last person she felt close to, her best friend Peter Parker. He, along with his Aunt May, was very close to Gwen and her father, Police Captain George Stacy, though she never told any of them about her double life as a superhero. Peter was bullied relentlessly at school, despite Gwen trying to defend him. Unbeknownst to her, he started experimenting with a dangerous chemical. The night of prom, a giant lizard monster attacked the school and tried to kill Peter\\'s bully. Gwen, leaping into action as Spider-Woman, fought him off, causing the building to collapse on top of the creature. The lizard reverted to Peter, who was mortally injured by the rubble. Gwen tried to save him, but it was too late. Peter revealed he knew she was Spider-Woman, and reassured her before dying in her arms. Captain Stacy found her over Peter\\'s body and assumed the masked vigilante murdered him, ordering a city-wide manhunt for Spider-Woman. In the present, Gwen returns home to ﬁnd her dad, who is still determined to bring down the \"killer\" of his daughter\\'s best friend. Despite Gwen telling him it\\'s no good, he soon leaves to respond to a disturbance at the Guggenheim Museum. Gwen is soon behind him as Spider-Woman, neutralizing the cops outside and entering to ﬁnd a parchment-based version of the Vulture has been sucked into her dimension and is wreaking havoc inside. She is pinned down by the villain, but is saved by another inter- dimensional traveler, Miguel O\\'Hara, a.k.a. Spider-Man 2099, leader of the Spider Society. He tells her that Vulture, and others like him, have been getting sucked into alternate universes ever since the collider incident in Miles\\' world. His suit and powers are still struggling to subdue the Renaissance Era Vulture, and he uses his artiﬁcial intelligence called Lyla to call for backup in the form of Jessica Drew, another Spider-Woman. Together, the three are able to stop Vulture and save the civilians and cops in the area, though Miguel nearly uses a pair of hidden fangs on the creature. Gwen is out of web and injured, and stops to rest. She is found and cornered by Captain Stacy, who tries to take her in. With no other options, she reveals her identity as his own daughter, to his shock. Despite her trying to reason with him and proclaim her innocence of Peter\\'s death, he continues to place her under arrest. He is stopped by Miguel and Jess, who prepare to take the Vulture back to their dimension. Jess convinces a highly reluctant Miguel not to leave Gwen behind all alone, and he allows her to go with them.', metadata={'source': 'plots/spiderman.pdf'}),\n",
       " Document(page_content=\"Several months later in Brooklyn on Earth-1610, a new small time villain named The Spot tries, unsuccessfully, to rob an ATM using his spots, which create portals whose placement he is unable to control his powers. Miles Morales, a.k.a. Spider-Man, arrives to stop him. He does not take the seemingly harmless criminal seriously, as it seems clear he is incompetent and doesn't want to hurt anyone, though Spot insists that he is Spider-Man's nemesis. Before he can explain, Miles gets frantic texts from his parents, Jefferson and Rio, who are waiting for him at school for a meeting with his principle to discuss his collage future. Miles tries to take down Spot quickly, but the haphazard portals lead to a chaotic chase across the city. Miles eventually subdues Spot, but needs to leave to meet his parents. Miles is doing well enough in school, but some of his grades, and all of his extra curricular activities, have suffered from his unexplained absences. His parents are also concerned that he wants to leave for a collage in New Jersey to help study dimensional travel. He leaves suddenly, seeing that Spot has escaped, and Jeff leaves as well, to Rio's annoyance.\", metadata={'source': 'plots/spiderman.pdf'}),\n",
       " Document(page_content='Jefferson follows Spider-Man, who is back to ﬁghting Spot, the faceless man feeling insulted that Spider-Man thinks of him as low-tier villain. While teleporting all over, the three of them end up', metadata={'source': 'plots/spiderman.pdf'}),\n",
       " Document(page_content='in ruins of the Alchemax collider. The Spot tells Spider-Man that this is where they were both created, as Spot used to be a scientist at Alchemax (the one who Miles threw a bagel at in the ﬁrst ﬁlm), and ran the test which brought the spider that bit Miles through from another dimension. Likewise, when Miles destroyed the collider, the energy released caused an accident that turned Spot permanently into the humanoid portal creature his is now. The Spot was shunned by his colleagues, friends, and even family for his condition. He becomes enraged, and tries to attack Spider-Man and Lieutenant Morales, but accidentally kicks himself on his butt and falls into a deep portal, which closes behind him. Jeff is frustrated that the criminal got away, as well as all the property damage caused by the ﬁght. He conﬁdes in Spider-Man about his struggles to be a good father and husband, and the masked Miles awkwardly offers advice before leaving. The Spot ﬁnds himself in a void, where he sees many portals made by his spots. Looking through them, he ﬁnds he can travel to different dimensions through them, but loses energy and is unable to return to the in-between space. He determines to ﬁnd a way to get more power to control the void and defeat Spider-Man.', metadata={'source': 'plots/spiderman.pdf'}),\n",
       " Document(page_content=\"Miles continues to try and balance his life as Miles with his responsibilities as Spider-Man. While late to a big party to celebrate his dad's upcoming promotion to police captain, he stops to get cakes, but is constantly waylaid by Spider-Man duties on his way back, missing his father's speech. When he ﬁnally makes it, the cakes are ruined, and his parents confront him about his secretive behavior. Miles becomes frustrated trying to come up with an explanation, and snaps at his parents. Rio and Jeff ground him, and Miles storms off to his room. Gwen suddenly appears through a dimensional portal controlled by a watch given to her by Miguel, and she invites him to hang out. They suit up and Gwen tells him all about Miguel's organization, the Spider Society, which she has joined to help protect the various universes. The two patrol the city for a while before stopping to talk, and Gwen conﬁdes in him that he is the only friend she's made since her Peter died, as Miles relates his own struggles with the pressure from his parents. He thinks maybe he should just tell them the truth, but Gwen warns against it. As they get closer, Gwen remarks that in every other universe, a version of Gwen Stacy falls for Spider-Man, though it always ends in tragedy. Miles optimistically states that there may be a ﬁrst time for the story to end happily. They return to the party where Gwen shows Miles her dimension jumping watch, which also stabilizes her so she doesn't glitch when she is in other worlds. Miles asks her about joining the Spider Society, but she becomes suddenly closed off about the subject and implies that it's a highly specialized and elite group. Jeff and Rio barge in to meet Gwen, immediately disapproving of her friendship with Miles. Gwen has to leave when her watch indicates to her, and Jeff leaves Rio to talk to Miles. They have a heart to heart talk, but, fearing what Gwen told him, Miles still doesn't reveal he is Spider-Man. Rio gives him her blessing to go after Gwen.\", metadata={'source': 'plots/spiderman.pdf'}),\n",
       " Document(page_content=\"Miles suits up and tracks Spider-Gwen to an abandoned and recently damaged building, using his powers to turn invisible and follow her inside. She uses her watch to recreate what happened, seeing that Spot made a miniature collider to give him enough power to dimension hop. Gwen freaks out, and is called by Jess, who is angry that Gwen failed to stop Spot before he escaped. She realizes Gwen disobeyed direct orders to stay away from Miles, though Gwen insists she had to see him. She tells Jess that she will leave Miles' dimension forever, and the older Spider- Woman gives her one last chance to get Spot before she tells Miguel. Lyla tracks him, and Gwen uses her watch to go through a portal. Determined to know more about the Spider Society, and feeling lonely without his friends, Miles jumps in after her. They end up in Earth-50101, Mumbatten, a world where New York is a massive metropolis in India. Miles accidentally runs\", metadata={'source': 'plots/spiderman.pdf'}),\n",
       " Document(page_content=\"into Gwen while she is chasing Spot, who has gained a great deal more control over his powers and is evading her easily. Miles also meets the local Spider-Man, Pavitr Prabhakar. Pavitr has only been Spider-Man for six months, but is already a member of the Spider Society. Miles starts to spasm due to being displaced from his universe, like the others did the previous year, and nearly gets Gwen hurt when he tries to save her. The three follow Spot to Earth-50101's Alchemax, which houses a fully functional collider. Spot shuts them out with a forceﬁeld and activates the device. Miles uses his Venom powers to steal the energy from the forceﬁeld, but its is too slow and not strong enough. Another Spider person appears and uses his own powers to smash though the barrier, advising Miles on the proper technique. He is Gwen's friend Hobie Brown, a.k.a. Spider-Punk, a British anti-establishment anarchist spider-man. He joins the others in trying to stop Spot from entering the collider, but are too late. As Spot absorbs the power, Miles sees a vision of his father and another policeman being killed during a battle in the city. Spot, now completely covered by the dark portals and unrecognizable, tells Miles that he will have his revenge for what the teen hero's actions have done to him, and escapes dimensions once again. The building starts to collapse and slide down onto Mumbatten, so the four spider people work together to clear the civilians from harms away. As Pavitr tries to save a bus holding his girlfriend, he sees that her father, Police Inspector Singh, is also in danger. Miles goes to rescue him, but Gwen holds him back, saying its too dangerous. Miles goes anyway, and is just able to save the Inspector, to Pavitr and his girlfriend's relief and gratitude. However, a black portal opens up in the heart of the city, and a transport full of other spider people, including Jess, arrives to contain it. Jess orders Gwen, Hobie, and Miles to return with her to HQ. Miles is happy to be let inside the Spider Society, but Gwen is apprehensive.\", metadata={'source': 'plots/spiderman.pdf'}),\n",
       " Document(page_content='They are transported to Earth-928, Nueva York, a beautiful futuristic world in the year 2099. They enter the Spider Society Headquarters, where Miles sees hundreds of spider people from all different dimensions, including a virtual reality avatar spider-woman named Spider-Byte, controlled remotely by teenager Margo Kess. Confused as to why Gwen told him it was a small group, Miles is given a wristband to prevent him from glitching out. He also sees \"anomalies\", villains displaced from their own dimensions, who are imprisoned in preparation to be sent home by the Go Home Machine, a device that detects the DNA of the anomalies and sends them to the dimension they came from. They are summoned to see Miguel, and Hobie tells Miles to think carefully about why he wants to be a part of the society, warning him to know what he\\'s ﬁghting for before he accepts their methods. Miguel is furious at Gwen and Miles for letting Spot get away, especially at Miles for interfering. He is interrupted by Peter B. Parker, the Spider-Man who helped Miles the previous year, with his infant daughter Mayday. Gwen takes responsibility, saying she should never have gone to see Miles as she was under orders not to get him involved. Miles want to know what\\'s going on, so Miguel decides to explain the situation to him. He shows him an algorithm containing the details of every universe\\'s Spider-Man, and the things that link each and every one of them together, such as the death of a loved one spurring them to heroism. Miguel explains that these are \"canon events\" that are essential to every spider-man\\'s universe. These events cannot be changed, or else they will break the canon, leading to devastating consequences. Miguel explains that he himself broke the canon when he tried to replace a version of himself that was murdered, in order to raise that version of him\\'s daughter. However, his interference caused that dimension and everyone in it to fade into nothing. There are other details that many spider people share and can be tracked by the algorithm, one of which being a police captain close to Spider-Man getting killed while trying to save a child. This death has been experienced by Peter B. and Jess, as well as Hobie. It was supposed to happen to Captain', metadata={'source': 'plots/spiderman.pdf'}),\n",
       " Document(page_content=\"Singh in Mumbatten, but Miles saved him, causing the black energy to appear and threaten to swallow the entire world. Gwen was trying to stop him to preserve the algorithm's canon. Miles realizes that his dad will soon be made a captain, and the vision from Spot showed the villain causing Jefferson's death while trying to save a child. Miguel conﬁrms that according to their projections, Miles' father will die in two days, when he is sworn in. Miles wants to go save him, but Miguel will not allow him to, saying it is a sacriﬁce that all spider people must make, and insisting that to damage the canon too much would cause every dimension to be eradicated. The other spider people surround Miles and tell him the same, even Peter B. and Gwen refuse to interfere. Miles rejects the notion that the algorithm knows exactly what will happen if he tries to save his dad, so Miguel entraps him in a force cage, intending to hold him until the canon event has played out. Hobie reminds Miles of his venom powers, and Miles breaks out of the cage and runs for it. Hobie looks on proudly before quitting the Spider Society and returning to his own dimension.\", metadata={'source': 'plots/spiderman.pdf'}),\n",
       " Document(page_content=\"Miguel orders every spider person in the skyscraper to catch Miles, but he is able to evade them into the under city. Peter B. ﬁnds him and tries to reason with him, saying he only had the courage to become a father because of Miles, and tries to get him to give up for his own sake. Miles refuses to allow his father to die just because Miguel's algorithm says it is meant to happen, and leaves Peter behind when Miguel tracks them from Peter's watch. Miles escapes onto a train bound for the Moon, but Miguel chases him ruthlessly. He catches him, and furiously tells Miles that he could never be a part of the Spider Society, because he is an anomaly himself; The spider that bit Miles was from another dimension. It was never supposed to bite him, and somewhere there is a world with no Spider-Man at all because of it. Peter B. and Gwen catch up, and accidentally reveal that they were aware of this, leaving Miles feeling betrayed by his own friends. Nevertheless, he uses his venom strike to depower Miguel's suit, telling him that he will never give up, and he has now lured all of the spider people away from the headquarters. He leaves Miguel and the others on the train as he turns invisible and escapes back to HQ. He activates the Go Home Machine, which scans his DNA. Miguel tries desperately to stop him but Spider-Byte lets the machine continue, sending Miles away. Miguel is livid, and orders Jess and Ben, a.k.a. Scarlet Spider, to come with him and hunt Miles down. Gwen questions Miguel in front of everyone, arguing that maybe Miles is right, and perhaps Spider-Man 2099's algorithm doesn't know for certain what will happen if the canon is broken. Miguel uses to Go Home Machine to banish Gwen back to her own dimension. Peter B. and Mayday return to Earth-616 to ﬁnd his wife, Mary Jane, waiting for them. Peter wonders if he is going to be any good at raising a child after all, but Mary Jane reassures him.\", metadata={'source': 'plots/spiderman.pdf'}),\n",
       " Document(page_content=\"Miles arrives in New York, and Gwen is dropped off in Earth-65. Miguel, Scarlet, and Jessica also teleport to New York. Gwen tries desperately to return and ﬁnd Miles, but her watch has been deactivated. She goes to her apartment to grab her things, but is found by her dad. They ﬁnally talk, Gwen explaining why she felt she could never tell him about her alter ego, and George tells her that he is quitting the police force. Gwen realizes that means he will no longer be a captain, and they reconcile. George gives Gwen a package left by Hobie, containing a homemade dimension watch made from parts stolen from the Spider Society. Gwen uses it to jump back to Miles' Earth.\\n\\nJess, Miguel, and Ben split up to look for Miles, meanwhile Miles is racing through to city to his apartment, contemplating everything the other spider people have told him. He makes it back to\", metadata={'source': 'plots/spiderman.pdf'}),\n",
       " Document(page_content='his bedroom safely, and is found by his mom. Miles embraces her, rambling about everything that has happened to him since leaving. He decides he will not be afraid anymore, and tells her that he\\'s Spider-Man. Rio, however, doesn\\'t know who Spider-Man is, and goes about her evening. Miles starts to spasm from dimensional displacement, as Gwen arrives at Miles\\' empty bedroom in Earth-1610. Miles realizes that the Go Home Machine sent him to the dimension the spider who bit him came from: Earth-42. Aaron Davis, Miles\\' uncle, shows up, still alive in this world, but there is no sign of Jeff, and Rio is working overtime to try and provide for her and her son. Aaron takes Miles with him up to the roof, asking him if he remembers \"the plan\". As they exit, Miles takes in this version of New York, a crime-ridden, villain ruled, dangerous landscape, and sees that his father has already been killed in this universe. Miles remembers that Earth-42 has no Spider-Man. Aaron gets a text, and before Miles can react, he is knocked unconscious by and unknown ﬁgure. Gwen hears Mr. and Mrs. Morales worriedly talking in the other room, and they discuss their feeling of alienation from their son. Gwen appears and tells them it is her fault he has not returned, gaining some respect from Jeff when he learns that her father is a cop. She leaves to ﬁnd Miles, and Rio asks her to remind him of their love for him when she does.', metadata={'source': 'plots/spiderman.pdf'}),\n",
       " Document(page_content=\"Miles comes to, tied up in Aaron's apartment. he tries to explain that he is from another universe, one where his father is alive and Aaron is dead. He appeals to Aaron's better nature, saying his uncle never truly wanted to be the Prowler. Aaron tells Miles that he isn't the Prowler, but shows him the person who is: Earth-42's Miles Morales. Prowler Miles is fascinated by his story, and Miles pleads with his counterpart to release him so he can save their father. However, Prowler Miles has no intention of letting him go. Because that's his father.\\n\\nGwen puts together her own team to ﬁnd and rescue Miles, including Hobie, Pavitr, Margo, Peter B. and Mayday, Peni Parker and her robot SP//dr, Spider-Man Noir, and Spider-Ham. As they use Hobie's homemade portals to start their mission, Miles starts to charge up his venom.\", metadata={'source': 'plots/spiderman.pdf'})]"
      ]
     },
     "execution_count": 23,
     "metadata": {},
     "output_type": "execute_result"
    }
   ],
   "source": [
    "from langchain.text_splitter import CharacterTextSplitter\n",
    "\n",
    "text_splitter = CharacterTextSplitter(\n",
    "    chunk_size=1000, \n",
    "    chunk_overlap=0\n",
    ")\n",
    "docs_split = text_splitter.split_documents(docs)\n",
    "docs_split"
   ]
  },
  {
   "cell_type": "code",
   "execution_count": 24,
   "id": "40fea96e",
   "metadata": {
    "collapsed": true
   },
   "outputs": [
    {
     "data": {
      "text/plain": [
       "('c7da49b3-0ac9-404d-889a-6a5ce3b1ba74', 'us-west4-gcp-free')"
      ]
     },
     "execution_count": 24,
     "metadata": {},
     "output_type": "execute_result"
    }
   ],
   "source": [
    "import os\n",
    "import pinecone \n",
    "\n",
    "PINECONE_API_KEY = os.environ[\"PINECONE_API_KEY\"]\n",
    "PINECONE_ENV = os.environ[\"PINECONE_ENV\"]\n",
    "(os.environ[\"PINECONE_API_KEY\"], os.environ[\"PINECONE_ENV\"])\n",
    "\n",
    "# pinecone.delete_index(index_name)\n",
    "# pinecone.create_index(index_name, dimension=1536)"
   ]
  },
  {
   "cell_type": "code",
   "execution_count": 25,
   "id": "66485435",
   "metadata": {},
   "outputs": [],
   "source": [
    "from langchain.vectorstores import Pinecone\n",
    "from langchain.embeddings.openai import OpenAIEmbeddings\n",
    "\n",
    "# we use the openAI embedding model\n",
    "embeddings = OpenAIEmbeddings()\n",
    "pinecone.init(\n",
    "    api_key=PINECONE_API_KEY,\n",
    "    environment=PINECONE_ENV\n",
    ")\n",
    "\n",
    "index_name = \"langchain-demo\"\n",
    "\n",
    "doc_db = Pinecone.from_documents(\n",
    "    docs_split, \n",
    "    embeddings, \n",
    "    index_name=index_name\n",
    ")"
   ]
  },
  {
   "cell_type": "code",
   "execution_count": 26,
   "id": "c01bfc72",
   "metadata": {},
   "outputs": [
    {
     "data": {
      "text/plain": [
       "[Document(page_content='in ruins of the Alchemax collider. The Spot tells Spider-Man that this is where they were both created, as Spot used to be a scientist at Alchemax (the one who Miles threw a bagel at in the ﬁrst ﬁlm), and ran the test which brought the spider that bit Miles through from another dimension. Likewise, when Miles destroyed the collider, the energy released caused an accident that turned Spot permanently into the humanoid portal creature his is now. The Spot was shunned by his colleagues, friends, and even family for his condition. He becomes enraged, and tries to attack Spider-Man and Lieutenant Morales, but accidentally kicks himself on his butt and falls into a deep portal, which closes behind him. Jeff is frustrated that the criminal got away, as well as all the property damage caused by the ﬁght. He conﬁdes in Spider-Man about his struggles to be a good father and husband, and the masked Miles awkwardly offers advice before leaving. The Spot ﬁnds himself in a void, where he sees many portals made by his spots. Looking through them, he ﬁnds he can travel to different dimensions through them, but loses energy and is unable to return to the in-between space. He determines to ﬁnd a way to get more power to control the void and defeat Spider-Man.', metadata={'source': 'plots/spiderman.pdf'}),\n",
       " Document(page_content=\"Several months later in Brooklyn on Earth-1610, a new small time villain named The Spot tries, unsuccessfully, to rob an ATM using his spots, which create portals whose placement he is unable to control his powers. Miles Morales, a.k.a. Spider-Man, arrives to stop him. He does not take the seemingly harmless criminal seriously, as it seems clear he is incompetent and doesn't want to hurt anyone, though Spot insists that he is Spider-Man's nemesis. Before he can explain, Miles gets frantic texts from his parents, Jefferson and Rio, who are waiting for him at school for a meeting with his principle to discuss his collage future. Miles tries to take down Spot quickly, but the haphazard portals lead to a chaotic chase across the city. Miles eventually subdues Spot, but needs to leave to meet his parents. Miles is doing well enough in school, but some of his grades, and all of his extra curricular activities, have suffered from his unexplained absences. His parents are also concerned that he wants to leave for a collage in New Jersey to help study dimensional travel. He leaves suddenly, seeing that Spot has escaped, and Jeff leaves as well, to Rio's annoyance.\", metadata={'source': 'plots/spiderman.pdf'}),\n",
       " Document(page_content=\"into Gwen while she is chasing Spot, who has gained a great deal more control over his powers and is evading her easily. Miles also meets the local Spider-Man, Pavitr Prabhakar. Pavitr has only been Spider-Man for six months, but is already a member of the Spider Society. Miles starts to spasm due to being displaced from his universe, like the others did the previous year, and nearly gets Gwen hurt when he tries to save her. The three follow Spot to Earth-50101's Alchemax, which houses a fully functional collider. Spot shuts them out with a forceﬁeld and activates the device. Miles uses his Venom powers to steal the energy from the forceﬁeld, but its is too slow and not strong enough. Another Spider person appears and uses his own powers to smash though the barrier, advising Miles on the proper technique. He is Gwen's friend Hobie Brown, a.k.a. Spider-Punk, a British anti-establishment anarchist spider-man. He joins the others in trying to stop Spot from entering the collider, but are too late. As Spot absorbs the power, Miles sees a vision of his father and another policeman being killed during a battle in the city. Spot, now completely covered by the dark portals and unrecognizable, tells Miles that he will have his revenge for what the teen hero's actions have done to him, and escapes dimensions once again. The building starts to collapse and slide down onto Mumbatten, so the four spider people work together to clear the civilians from harms away. As Pavitr tries to save a bus holding his girlfriend, he sees that her father, Police Inspector Singh, is also in danger. Miles goes to rescue him, but Gwen holds him back, saying its too dangerous. Miles goes anyway, and is just able to save the Inspector, to Pavitr and his girlfriend's relief and gratitude. However, a black portal opens up in the heart of the city, and a transport full of other spider people, including Jess, arrives to contain it. Jess orders Gwen, Hobie, and Miles to return with her to HQ. Miles is happy to be let inside the Spider Society, but Gwen is apprehensive.\", metadata={'source': 'plots/spiderman.pdf'}),\n",
       " Document(page_content=\"Miles suits up and tracks Spider-Gwen to an abandoned and recently damaged building, using his powers to turn invisible and follow her inside. She uses her watch to recreate what happened, seeing that Spot made a miniature collider to give him enough power to dimension hop. Gwen freaks out, and is called by Jess, who is angry that Gwen failed to stop Spot before he escaped. She realizes Gwen disobeyed direct orders to stay away from Miles, though Gwen insists she had to see him. She tells Jess that she will leave Miles' dimension forever, and the older Spider- Woman gives her one last chance to get Spot before she tells Miguel. Lyla tracks him, and Gwen uses her watch to go through a portal. Determined to know more about the Spider Society, and feeling lonely without his friends, Miles jumps in after her. They end up in Earth-50101, Mumbatten, a world where New York is a massive metropolis in India. Miles accidentally runs\", metadata={'source': 'plots/spiderman.pdf'})]"
      ]
     },
     "execution_count": 26,
     "metadata": {},
     "output_type": "execute_result"
    }
   ],
   "source": [
    "query = \"Who is Spot?\"\n",
    "search_docs = doc_db.similarity_search(query)\n",
    "search_docs"
   ]
  },
  {
   "cell_type": "code",
   "execution_count": 27,
   "id": "1c1d9091",
   "metadata": {},
   "outputs": [],
   "source": [
    "from langchain import OpenAI\n",
    "llm = OpenAI()"
   ]
  },
  {
   "cell_type": "code",
   "execution_count": 33,
   "id": "b9f9a27a",
   "metadata": {},
   "outputs": [
    {
     "data": {
      "text/plain": [
       "' Spot is a small time villain who was formerly a scientist at Alchemax. He was transformed into a humanoid portal creature after an accident at the Alchemax collider. He has the power to create portals and travel to different dimensions.'"
      ]
     },
     "execution_count": 33,
     "metadata": {},
     "output_type": "execute_result"
    }
   ],
   "source": [
    "from langchain.chains import RetrievalQA\n",
    "\n",
    "qa = RetrievalQA.from_chain_type(\n",
    "    llm=llm, \n",
    "    chain_type='stuff',\n",
    "    retriever=doc_db.as_retriever(),\n",
    ")\n",
    "\n",
    "query = \"Who is Spot?\"\n",
    "result = qa.run(query)\n",
    "\n",
    "result"
   ]
  },
  {
   "cell_type": "code",
   "execution_count": 30,
   "id": "a2a58294",
   "metadata": {},
   "outputs": [
    {
     "name": "stdout",
     "output_type": "stream",
     "text": [
      " Spot escaped through a portal and found himself in a void, where he saw many portals made by his spots. He determined to find a way to get more power to control the void and defeat Spider-Man. Several months later, he was unsuccessfully trying to rob an ATM using his spots. Miles Morales eventually subdued him, but he escaped again. He eventually gained a great deal more control over his powers and was able to activate a collider, absorbing its power. He then escaped through a portal, vowing revenge on Spider-Man.\n",
      " Spot did not die. He escaped through a portal and was last seen in a void, where he saw many portals made by his spots. He determined to find a way to get more power to control the void and defeat Spider-Man.\n"
     ]
    }
   ],
   "source": [
    "from langchain.memory import ConversationBufferMemory\n",
    "from langchain.chains import ConversationalRetrievalChain\n",
    "\n",
    "memory = ConversationBufferMemory(memory_key='chat_history',return_messages=True)\n",
    "qa = ConversationalRetrievalChain.from_llm(OpenAI(temperature=0), doc_db.as_retriever(), memory=memory)\n",
    "\n",
    "query = \"What happened to Spot?\"\n",
    "result = qa.run(query)\n",
    "print(result)\n",
    "\n",
    "query = \"How did he die?\"\n",
    "result = qa.run(query)\n",
    "print(result)"
   ]
  }
 ],
 "metadata": {
  "kernelspec": {
   "display_name": "Python 3 (ipykernel)",
   "language": "python",
   "name": "python3"
  },
  "language_info": {
   "codemirror_mode": {
    "name": "ipython",
    "version": 3
   },
   "file_extension": ".py",
   "mimetype": "text/x-python",
   "name": "python",
   "nbconvert_exporter": "python",
   "pygments_lexer": "ipython3",
   "version": "3.11.2"
  }
 },
 "nbformat": 4,
 "nbformat_minor": 5
}
